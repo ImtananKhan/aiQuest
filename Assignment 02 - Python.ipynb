{
 "cells": [
  {
   "cell_type": "code",
   "execution_count": 1,
   "id": "a86aa914",
   "metadata": {},
   "outputs": [],
   "source": [
    "## Question-1: Take values of the length & breadth of a rectangle from user input and check if it is square or not.  "
   ]
  },
  {
   "cell_type": "code",
   "execution_count": 3,
   "id": "a827f437",
   "metadata": {},
   "outputs": [
    {
     "name": "stdout",
     "output_type": "stream",
     "text": [
      "Enter the Length: 5\n",
      "Enter the Breadth: 5\n",
      "it is a Square\n"
     ]
    }
   ],
   "source": [
    "length = float(input(\"Enter the Length: \"))\n",
    "breadth =  float(input(\"Enter the Breadth: \"))\n",
    "\n",
    "if length == breadth:\n",
    "    print(\"it is a Square\")\n",
    "else: \n",
    "    print(\"it is not a Square\")"
   ]
  },
  {
   "cell_type": "code",
   "execution_count": 4,
   "id": "7d1a5702",
   "metadata": {},
   "outputs": [],
   "source": [
    "## Question-2: Take three integer values from the user and print the greatest among them."
   ]
  },
  {
   "cell_type": "code",
   "execution_count": 1,
   "id": "8bebd4a2",
   "metadata": {},
   "outputs": [
    {
     "name": "stdout",
     "output_type": "stream",
     "text": [
      "Enter the first value: 80\n",
      "Enter the second value: 90\n",
      "Enter the third value: 60\n",
      "The greatest value is 90.0\n"
     ]
    }
   ],
   "source": [
    "value1 = float(input(\"Enter the first value: \"))\n",
    "value2 = float(input(\"Enter the second value: \"))\n",
    "value3 = float(input(\"Enter the third value: \"))\n",
    "\n",
    "values = [value1, value2, value3]\n",
    "\n",
    "greatest_value = max(values)\n",
    "\n",
    "print(f\"The greatest value is {greatest_value}\")"
   ]
  },
  {
   "cell_type": "code",
   "execution_count": 2,
   "id": "60e342f6",
   "metadata": {},
   "outputs": [],
   "source": [
    "# Different way"
   ]
  },
  {
   "cell_type": "code",
   "execution_count": 4,
   "id": "2e67d0da",
   "metadata": {},
   "outputs": [
    {
     "name": "stdout",
     "output_type": "stream",
     "text": [
      "Enter the first value: 30\n",
      "Enter the second value: 90\n",
      "Enter the third value: 60\n",
      "90.0 is the greatest value\n"
     ]
    }
   ],
   "source": [
    "value1 = float(input(\"Enter the first value: \"))\n",
    "value2 = float(input(\"Enter the second value: \"))\n",
    "value3 = float(input(\"Enter the third value: \"))\n",
    "\n",
    "if value1 > value2 and value1 > value3:\n",
    "    print(f\"{value1} is the greatest value\")\n",
    "elif value2 > value1 and value2 > value3: \n",
    "    print(f\"{value2} is the greatest value\")\n",
    "else: \n",
    "    print(f\"{value3} is the greast value\")\n"
   ]
  },
  {
   "cell_type": "code",
   "execution_count": 5,
   "id": "16ec562d",
   "metadata": {},
   "outputs": [],
   "source": [
    "## A student will not be allowed to sit in an exam if his/her attendance is less than 75%."
   ]
  },
  {
   "cell_type": "code",
   "execution_count": 8,
   "id": "56227875",
   "metadata": {},
   "outputs": [
    {
     "name": "stdout",
     "output_type": "stream",
     "text": [
      "Enter your attendance: 74.5\n",
      "Sorry you are not allowed to sit in the exam\n"
     ]
    }
   ],
   "source": [
    "attendance = float(input(\"Enter your attendance: \"))\n",
    "\n",
    "if attendance > 75:\n",
    "    print(\"You are allowed to sit in the exam\")\n",
    "else: \n",
    "    print(\"Sorry you are not allowed to sit in the exam\")\n"
   ]
  },
  {
   "cell_type": "code",
   "execution_count": null,
   "id": "3e10ccb4",
   "metadata": {},
   "outputs": [],
   "source": [
    "# A school has the following rules for the grading system:\n",
    "# Below 25 – F, 25 to 44 – E, 45 to 49 – D, 50 to 59 – C, 60 to 79 – B, 80 to 89 - A, Above 90 - A+\n",
    "# Now, Ask the user to enter marks and print the corresponding grade."
   ]
  },
  {
   "cell_type": "code",
   "execution_count": 19,
   "id": "0a90c05a",
   "metadata": {},
   "outputs": [
    {
     "name": "stdout",
     "output_type": "stream",
     "text": [
      "Enter your marks: 22\n",
      "Sorry Your failed Your grade is F \n"
     ]
    }
   ],
   "source": [
    "marks = float(input(\"Enter your marks: \"))\n",
    "\n",
    "if marks >= 90: \n",
    "    print(\"Your Grade is A+\")\n",
    "elif marks >= 80:\n",
    "    print(\"Your grade is A\")\n",
    "elif marks >= 60: \n",
    "    print(\"Your grade is B\")\n",
    "elif marks >= 50:\n",
    "    print(\"Your grade is C\")\n",
    "elif marks >= 45:\n",
    "    print(\"Your grade is D\")\n",
    "elif marks >= 25:\n",
    "    print(\"Your grade is E\")\n",
    "elif marks < 25:\n",
    "    print(\"Sorry Your failed Your grade is F \")\n",
    "\n"
   ]
  },
  {
   "cell_type": "code",
   "execution_count": null,
   "id": "f048468c",
   "metadata": {},
   "outputs": [],
   "source": [
    "# Print the following pattern using for and while loop.\n",
    "# 1 2 3 4 5 6 7\n",
    "# 1 2 3 4 5 6\n",
    "# 1 2 3 4 5\n",
    "# 1 2 3 4"
   ]
  },
  {
   "cell_type": "code",
   "execution_count": 23,
   "id": "f9b91f3e",
   "metadata": {},
   "outputs": [
    {
     "name": "stdout",
     "output_type": "stream",
     "text": [
      "1 2 3 4 5 6 7 \n",
      "1 2 3 4 5 6 \n",
      "1 2 3 4 5 \n",
      "1 2 3 4 \n",
      "1 2 3 \n",
      "1 2 \n",
      "1 \n"
     ]
    }
   ],
   "source": [
    "for i in range(7, 0, -1):\n",
    "    for j in range(1, i+1):\n",
    "        print(j , end = \" \")\n",
    "    print()    "
   ]
  },
  {
   "cell_type": "code",
   "execution_count": 25,
   "id": "021e04a6",
   "metadata": {},
   "outputs": [
    {
     "name": "stdout",
     "output_type": "stream",
     "text": [
      "1 2 3 4 5 6 7 \n",
      "1 2 3 4 5 6 \n",
      "1 2 3 4 5 \n",
      "1 2 3 4 \n",
      "1 2 3 \n",
      "1 2 \n",
      "1 \n"
     ]
    }
   ],
   "source": [
    "i = 7\n",
    "while i > 0:\n",
    "    j = 1\n",
    "    while j <= i:\n",
    "        print(j, end=\" \")\n",
    "        j += 1\n",
    "    print()\n",
    "    i -= 1\n",
    "\n"
   ]
  },
  {
   "cell_type": "code",
   "execution_count": 26,
   "id": "243b5b47",
   "metadata": {},
   "outputs": [
    {
     "name": "stdout",
     "output_type": "stream",
     "text": [
      "1 2 3 4 5 6 7 \n",
      "1 2 3 4 5 6 \n",
      "1 2 3 4 5 \n",
      "1 2 3 4 \n",
      "1 2 3 \n",
      "1 2 \n",
      "1 \n"
     ]
    }
   ],
   "source": [
    "i = 7\n",
    "while i > 0:\n",
    "    j = 1\n",
    "    while j <= i:\n",
    "        print(j, end=\" \")\n",
    "        j += 1\n",
    "    print()\n",
    "    i -= 1 "
   ]
  },
  {
   "cell_type": "code",
   "execution_count": 28,
   "id": "a727cdba",
   "metadata": {},
   "outputs": [
    {
     "name": "stdout",
     "output_type": "stream",
     "text": [
      "-100\n",
      "-99\n",
      "-98\n",
      "-97\n",
      "-96\n",
      "-95\n",
      "-94\n",
      "-93\n",
      "-92\n",
      "-91\n",
      "-90\n",
      "-89\n",
      "-88\n",
      "-87\n",
      "-86\n",
      "-85\n",
      "-84\n",
      "-83\n",
      "-82\n",
      "-81\n",
      "-80\n",
      "-79\n",
      "-78\n",
      "-77\n",
      "-76\n",
      "-75\n",
      "-74\n",
      "-73\n",
      "-72\n",
      "-71\n",
      "-70\n",
      "-69\n",
      "-68\n",
      "-67\n",
      "-66\n",
      "-65\n",
      "-64\n",
      "-63\n",
      "-62\n",
      "-61\n",
      "-60\n",
      "-59\n",
      "-58\n",
      "-57\n",
      "-56\n",
      "-55\n",
      "-54\n",
      "-53\n",
      "-52\n",
      "-51\n",
      "-50\n",
      "-49\n",
      "-48\n",
      "-47\n",
      "-46\n",
      "-45\n",
      "-44\n",
      "-43\n",
      "-42\n",
      "-41\n",
      "-40\n",
      "-39\n",
      "-38\n",
      "-37\n",
      "-36\n",
      "-35\n",
      "-34\n",
      "-33\n",
      "-32\n",
      "-31\n",
      "-30\n",
      "-29\n",
      "-28\n",
      "-27\n",
      "-26\n",
      "-25\n",
      "-24\n",
      "-23\n",
      "-22\n",
      "-21\n",
      "-20\n",
      "-19\n",
      "-18\n",
      "-17\n",
      "-16\n",
      "-15\n",
      "-14\n",
      "-13\n",
      "-12\n",
      "-11\n",
      "-10\n"
     ]
    }
   ],
   "source": [
    "for i in range (-100 , -9):\n",
    "    print(i)"
   ]
  },
  {
   "cell_type": "code",
   "execution_count": 1,
   "id": "13169908",
   "metadata": {},
   "outputs": [],
   "source": [
    "## Write a program to sum all prime numbers within a range of 10 to 1000."
   ]
  },
  {
   "cell_type": "code",
   "execution_count": 7,
   "id": "af08ff6a",
   "metadata": {},
   "outputs": [
    {
     "name": "stdout",
     "output_type": "stream",
     "text": [
      "The sum of all prime numbers within the range of 10 to 1000 is: 76110\n"
     ]
    }
   ],
   "source": [
    "def is_prime(n):\n",
    "    if n < 2:\n",
    "        return False\n",
    "    for i in range(2, int(n**0.5) + 1 ):\n",
    "        if n % i == 0:\n",
    "            return False\n",
    "    return True \n",
    "\n",
    "sum_of_primes = 0\n",
    "for i in range(10, 1001):\n",
    "    if is_prime(i):\n",
    "        sum_of_primes += i\n",
    "        \n",
    "\n",
    "print(f\"The sum of all prime numbers within the range of 10 to 1000 is: {sum_of_primes}\")        \n",
    "    \n",
    "    \n",
    "    \n",
    "    \n",
    "    "
   ]
  },
  {
   "cell_type": "code",
   "execution_count": null,
   "id": "a09c8913",
   "metadata": {},
   "outputs": [],
   "source": [
    "n = 7\n",
    "\n",
    "factorial = 1\n",
    "for i in range(1, n+1):\n",
    "    factorial *= i\n",
    "\n",
    "print(\"The factorial of\", n, \"is:\", factorial)\n"
   ]
  },
  {
   "cell_type": "code",
   "execution_count": 10,
   "id": "b2e575bd",
   "metadata": {},
   "outputs": [],
   "source": [
    "## Find the factorial of an n! (Hint, n=7: 7*6*5*4*3*2*1)"
   ]
  },
  {
   "cell_type": "code",
   "execution_count": 11,
   "id": "75bd0c6a",
   "metadata": {},
   "outputs": [
    {
     "name": "stdout",
     "output_type": "stream",
     "text": [
      "The factorial of 7 is 5040\n"
     ]
    }
   ],
   "source": [
    "n = 7\n",
    "\n",
    "factorial = 1\n",
    "for i in range(1, n+1):\n",
    "    factorial *= i\n",
    "print(f\"The factorial of {n} is {factorial}\")\n",
    "    \n",
    "    \n",
    "    "
   ]
  },
  {
   "cell_type": "code",
   "execution_count": 15,
   "id": "679a679c",
   "metadata": {},
   "outputs": [],
   "source": [
    "## Reverse a given integer number (27956240710)"
   ]
  },
  {
   "cell_type": "code",
   "execution_count": 22,
   "id": "61d6211f",
   "metadata": {},
   "outputs": [
    {
     "name": "stdout",
     "output_type": "stream",
     "text": [
      "Reversed number: 1704265972\n"
     ]
    }
   ],
   "source": [
    "num = 27956240710\n",
    "\n",
    "reversed_num = str(num)[::-1]\n",
    "\n",
    "reversed_num = int(reversed_num)\n",
    "\n",
    "print(f\"Reversed number: {reversed_num}\")\n",
    "\n",
    "\n"
   ]
  },
  {
   "cell_type": "code",
   "execution_count": 1,
   "id": "55d37690",
   "metadata": {},
   "outputs": [],
   "source": [
    "## Print the following pattern using for and while loop.\n",
    "# # #\n",
    "# # # #\n",
    "# # #\n",
    "# #"
   ]
  },
  {
   "cell_type": "code",
   "execution_count": null,
   "id": "ef8ec1cd",
   "metadata": {},
   "outputs": [],
   "source": [
    "# Using for loop\n",
    "for i in range(1, 5):\n",
    "    for j in range(1, 4):\n",
    "        if i == 2 and j == 3:\n",
    "            continue\n",
    "        if i == 4 and j == 3:\n",
    "            continue\n",
    "        print(\"#\", end=\" \")\n",
    "    print()"
   ]
  },
  {
   "cell_type": "code",
   "execution_count": null,
   "id": "d0489404",
   "metadata": {},
   "outputs": [],
   "source": [
    "# Using for loop"
   ]
  },
  {
   "cell_type": "code",
   "execution_count": 20,
   "id": "74fa890d",
   "metadata": {},
   "outputs": [
    {
     "name": "stdout",
     "output_type": "stream",
     "text": [
      "# # # \n",
      "# # # \n",
      "# # # \n",
      "# # \n"
     ]
    }
   ],
   "source": [
    "for i in range(1, 5):\n",
    "    for j in range(1,4):\n",
    "        if i == 3 and j == 4:\n",
    "            continue\n",
    "        if i == 4 and j == 3:\n",
    "            continue\n",
    "        print(\"#\" , end= \" \")\n",
    "    print()    "
   ]
  },
  {
   "cell_type": "code",
   "execution_count": 8,
   "id": "daa7f98f",
   "metadata": {},
   "outputs": [
    {
     "name": "stdout",
     "output_type": "stream",
     "text": [
      "# # # \n",
      "# # \n",
      "# # # \n",
      "# # \n"
     ]
    }
   ],
   "source": [
    "# Using for loop\n",
    "for i in range(1, 5):\n",
    "    for j in range(1, 4):\n",
    "        if i == 2 and j == 3:\n",
    "            continue\n",
    "        if i == 4 and j == 3:\n",
    "            continue\n",
    "        print(\"#\", end=\" \")\n",
    "    print()\n"
   ]
  },
  {
   "cell_type": "code",
   "execution_count": 1,
   "id": "062a3270",
   "metadata": {},
   "outputs": [],
   "source": [
    "# Display the Fibonacci series of 15 elements using the for and while loop."
   ]
  },
  {
   "cell_type": "code",
   "execution_count": 11,
   "id": "bc6b861d",
   "metadata": {},
   "outputs": [
    {
     "name": "stdout",
     "output_type": "stream",
     "text": [
      "0\n",
      "1\n",
      "1\n",
      "2\n",
      "3\n",
      "5\n",
      "8\n",
      "13\n",
      "21\n",
      "34\n",
      "55\n",
      "89\n",
      "144\n",
      "233\n",
      "377\n"
     ]
    }
   ],
   "source": [
    "# Using For Loop\n",
    "\n",
    "a = 0\n",
    "b = 1\n",
    "\n",
    "for i in range(15):\n",
    "    print(a)\n",
    "    \n",
    "    a, b = b, a+b\n",
    "    \n",
    "\n",
    "\n"
   ]
  },
  {
   "cell_type": "code",
   "execution_count": 9,
   "id": "2f0ee734",
   "metadata": {},
   "outputs": [],
   "source": [
    "# Using while Loop "
   ]
  },
  {
   "cell_type": "code",
   "execution_count": 14,
   "id": "9c9b4420",
   "metadata": {
    "scrolled": true
   },
   "outputs": [
    {
     "name": "stdout",
     "output_type": "stream",
     "text": [
      "0\n",
      "1\n",
      "1\n",
      "2\n",
      "3\n",
      "5\n",
      "8\n",
      "13\n",
      "21\n",
      "34\n",
      "55\n",
      "89\n",
      "144\n",
      "233\n",
      "377\n"
     ]
    }
   ],
   "source": [
    "x = 0\n",
    "\n",
    "y = 1\n",
    "\n",
    "i = 0\n",
    "\n",
    "while i < 15:\n",
    "    print(x)\n",
    "    \n",
    "    x,y = y, x+y\n",
    "    \n",
    "    i += 1"
   ]
  },
  {
   "cell_type": "code",
   "execution_count": 3,
   "id": "f550d2e7",
   "metadata": {},
   "outputs": [],
   "source": [
    "# 12. Remove 2 and add 3 to the list and replace True with False.\n",
    "# Li = [1,3,5, [2,3], True]\n",
    "# Output = [1,3,5, [3,3], False]"
   ]
  },
  {
   "cell_type": "code",
   "execution_count": 4,
   "id": "a217fd3a",
   "metadata": {},
   "outputs": [
    {
     "name": "stdout",
     "output_type": "stream",
     "text": [
      "[1, 3, 5, [3], True]\n",
      "[1, 3, 5, [3, 3], True]\n",
      "[False, 3, 5, [3, 3], True]\n"
     ]
    }
   ],
   "source": [
    "my_list = [1 , 3 , 5 , [2 , 3] , True]\n",
    "\n",
    "my_list[3].remove(2)\n",
    "print(my_list)\n",
    "\n",
    "my_list[3].append(3)\n",
    "print(my_list)\n",
    "\n",
    "my_list[my_list.index(True)] = False\n",
    "\n",
    "print(my_list)"
   ]
  },
  {
   "cell_type": "code",
   "execution_count": 28,
   "id": "c11f7de1",
   "metadata": {},
   "outputs": [
    {
     "name": "stdout",
     "output_type": "stream",
     "text": [
      "[False, 3, 5, [2, 3], False]\n"
     ]
    }
   ],
   "source": [
    "my_list = [1,3,5, [2,3], True]\n",
    "\n",
    "for i in range(len(my_list)):\n",
    "    if my_list[i] == True:\n",
    "        my_list[i] = False\n",
    "\n",
    "print(my_list)\n"
   ]
  },
  {
   "cell_type": "code",
   "execution_count": 32,
   "id": "49da323e",
   "metadata": {},
   "outputs": [],
   "source": [
    "# Find the intersection (common) of two sets.\n",
    "# S1 = {1,4,6,8}\n",
    "# S2 = {True, 1,2,10}"
   ]
  },
  {
   "cell_type": "code",
   "execution_count": 33,
   "id": "b72d618c",
   "metadata": {},
   "outputs": [
    {
     "name": "stdout",
     "output_type": "stream",
     "text": [
      "{True}\n"
     ]
    }
   ],
   "source": [
    "S1 = {1,4,6,8}\n",
    "S2 = {True, 1,2,10}\n",
    "\n",
    "intersection = S1.intersection(S2)\n",
    "\n",
    "print(intersection)"
   ]
  },
  {
   "cell_type": "code",
   "execution_count": 38,
   "id": "b04ae4c5",
   "metadata": {},
   "outputs": [
    {
     "name": "stdout",
     "output_type": "stream",
     "text": [
      "{True}\n"
     ]
    }
   ],
   "source": [
    "S1 = {1,4,6,8}\n",
    "S2 = {True, 1,2,10}\n",
    "\n",
    "# Using the intersection() method\n",
    "intersection = set(S1) & set(S2)\n",
    "\n",
    "print(intersection)"
   ]
  },
  {
   "cell_type": "code",
   "execution_count": 37,
   "id": "30da1a45",
   "metadata": {},
   "outputs": [
    {
     "name": "stdout",
     "output_type": "stream",
     "text": [
      "{True}\n"
     ]
    }
   ],
   "source": [
    "S1 = {1,4,6,8}\n",
    "S2 = {True, 1,2,10}\n",
    "\n",
    "# Using the & operator\n",
    "intersection = S1 & S2\n",
    "\n",
    "print(intersection)"
   ]
  },
  {
   "cell_type": "code",
   "execution_count": 39,
   "id": "dadb71c6",
   "metadata": {},
   "outputs": [
    {
     "name": "stdout",
     "output_type": "stream",
     "text": [
      "{True}\n"
     ]
    }
   ],
   "source": [
    "S1 = {1,4,6,8}\n",
    "S2 = {True, 1,2,10}\n",
    "\n",
    "# Using the intersection() method\n",
    "intersection = set(S1) & set(S2)\n",
    "\n",
    "print(intersection)"
   ]
  },
  {
   "cell_type": "code",
   "execution_count": 40,
   "id": "1a03c6ce",
   "metadata": {},
   "outputs": [
    {
     "name": "stdout",
     "output_type": "stream",
     "text": [
      "{True}\n"
     ]
    }
   ],
   "source": [
    "S1 = {1, 4, 6, 8}\n",
    "S2 = {True, 1, 2, 10}\n",
    "\n",
    "common = S1.intersection(S2)\n",
    "common_set = set(common)\n",
    "print(common_set)\n"
   ]
  },
  {
   "cell_type": "code",
   "execution_count": 44,
   "id": "82a70eb8",
   "metadata": {},
   "outputs": [],
   "source": [
    "# Input a list from the user then Remove duplicates from a list and create a set and find the max\n",
    "# number. User_input = [1,9,3,4,5,200,54]"
   ]
  },
  {
   "cell_type": "code",
   "execution_count": 64,
   "id": "ee7bb2d7",
   "metadata": {},
   "outputs": [
    {
     "name": "stdout",
     "output_type": "stream",
     "text": [
      "Enter 8 random number for creating a List: 99\n",
      "[99]\n"
     ]
    }
   ],
   "source": [
    "number = []\n",
    "\n",
    "def create_list():\n",
    "    for i in range(8):\n",
    "        user_input = int(input(\"Enter 8 random number for creating a List: \"))\n",
    "        number.append(user_input)\n",
    "        return number\n",
    "    \n",
    "\n",
    "\n",
    "print(number)\n",
    "   \n",
    "    \n",
    "  \n"
   ]
  },
  {
   "cell_type": "code",
   "execution_count": 66,
   "id": "7856573a",
   "metadata": {},
   "outputs": [
    {
     "name": "stdout",
     "output_type": "stream",
     "text": [
      "Enter a number: 88\n",
      "Enter a number: 99\n",
      "Enter a number: 54\n",
      "Enter a number: 64\n",
      "Enter a number: 45\n",
      "Enter a number: 78\n",
      "Enter a number: \n",
      "The maximum number is: 99, The Unique Numbers [64, 99, 45, 78, 54, 88] , and The Set of numbers {64, 99, 45, 78, 54, 88}  \n"
     ]
    }
   ],
   "source": [
    "def get_list_from_user():\n",
    "  \"\"\"Gets a list of numbers from the user.\"\"\"\n",
    "  list_of_numbers = []\n",
    "  while True:\n",
    "    number = input(\"Enter a number: \")\n",
    "    if number == \"\":\n",
    "      break\n",
    "    list_of_numbers.append(int(number))\n",
    "  return list_of_numbers\n",
    "\n",
    "def remove_duplicates_from_list(list_of_numbers):\n",
    "  \"\"\"Removes duplicates from a list.\"\"\"\n",
    "  unique_numbers = set(list_of_numbers)\n",
    "  return list(unique_numbers)\n",
    "\n",
    "def create_set(list_of_numbers):\n",
    "  \"\"\"Creates a set from a list.\"\"\"\n",
    "  return set(list_of_numbers)\n",
    "\n",
    "def find_max_number(list_of_numbers):\n",
    "  \"\"\"Finds the maximum number in a list.\"\"\"\n",
    "  max_number = max(list_of_numbers)\n",
    "  return max_number\n",
    "\n",
    "# Get a list of numbers from the user\n",
    "list_of_numbers = get_list_from_user()\n",
    "\n",
    "# Remove duplicates from the list\n",
    "unique_numbers = remove_duplicates_from_list(list_of_numbers)\n",
    "\n",
    "# Create a set from the list\n",
    "set_of_numbers = create_set(unique_numbers)\n",
    "\n",
    "# Find the maximum number in the set\n",
    "max_number = find_max_number(set_of_numbers)\n",
    "\n",
    "# Print the maximum number\n",
    "print(f\"The maximum number is: {max_number}, The Unique Numbers {unique_numbers} , and The Set of numbers {set_of_numbers}  \")\n"
   ]
  },
  {
   "cell_type": "code",
   "execution_count": 73,
   "id": "a3387428",
   "metadata": {},
   "outputs": [
    {
     "name": "stdout",
     "output_type": "stream",
     "text": [
      "Enter the length of your list: 5\n",
      "Enter your list element: 88\n",
      "Enter your list element: 99\n",
      "Enter your list element: 77\n",
      "Enter your list element: 88\n",
      "Enter your list element: 200\n",
      "List with duplicates removed:  [88, 99, 77, 200]\n",
      "Set created from the list:  {88, 99, 77, 200}\n",
      "Maximum number in the set:  200\n"
     ]
    }
   ],
   "source": [
    "# Function to take input from user and return the list\n",
    "\n",
    "def get_input():\n",
    "    n = int(input(\"Enter the length of your list: \"))\n",
    "    my_list = []\n",
    "    for i in range(n): \n",
    "        li_ele = int(input(\"Enter your list element: \"))\n",
    "        my_list.append(li_ele)\n",
    "    return my_list        \n",
    "    \n",
    "# Function to remove duplicates from a list and return the updated list\n",
    "\n",
    "def remove_duplicates(my_list):\n",
    "    return list(set(my_list))\n",
    "\n",
    "# Function to create a set from the list and return the set\n",
    "\n",
    "def create_set(my_list):\n",
    "    return set(my_list)\n",
    "\n",
    "# Function to find the maximum number in a set and return the maximum number\n",
    "\n",
    "def find_max(my_set): \n",
    "    return max(my_set)\n",
    "\n",
    "\n",
    "# Main function to call other functions\n",
    "\n",
    "def main():\n",
    "    my_list = get_input()\n",
    "    unique_list = remove_duplicates(my_list)\n",
    "    my_set = create_set(unique_list)\n",
    "    max_num = find_max(my_set)\n",
    "    print(\"List with duplicates removed: \", unique_list)\n",
    "    print(\"Set created from the list: \", my_set)\n",
    "    print(\"Maximum number in the set: \", max_num)\n",
    "    \n",
    "# Call the main function to run the program\n",
    "main()    \n",
    "    \n",
    "    \n",
    "    \n",
    "\n",
    "\n",
    "\n"
   ]
  },
  {
   "cell_type": "code",
   "execution_count": 75,
   "id": "d6a96231",
   "metadata": {},
   "outputs": [],
   "source": [
    "# Rename the key of a dictionary.\n",
    "# Dict = { \"name\": \"Shakil\", \"age\":27, \"city\": “Berlin”, \"country\": \"Germany\" }\n",
    "# Write a program to rename a key ‘country’ to a ‘region’ in the following dictionary."
   ]
  },
  {
   "cell_type": "code",
   "execution_count": 76,
   "id": "f330437a",
   "metadata": {},
   "outputs": [
    {
     "name": "stdout",
     "output_type": "stream",
     "text": [
      "{'name': 'Shakil', 'age': 27, 'city': 'Berlin', 'region': 'Germany'}\n"
     ]
    }
   ],
   "source": [
    "dict = { \"name\": \"Shakil\", \"age\":27, \"city\": \"Berlin\", \"country\": \"Germany\" }\n",
    "\n",
    "dict[\"region\"] = dict.pop(\"country\")\n",
    "\n",
    "print(dict)"
   ]
  },
  {
   "cell_type": "code",
   "execution_count": 77,
   "id": "d4b41b7b",
   "metadata": {},
   "outputs": [],
   "source": [
    "# Creating a data frame using the list.\n",
    "# num = [10,100,300] (column name is number)"
   ]
  },
  {
   "cell_type": "code",
   "execution_count": 78,
   "id": "1879d0a0",
   "metadata": {},
   "outputs": [],
   "source": [
    "import pandas as pd"
   ]
  },
  {
   "cell_type": "code",
   "execution_count": 79,
   "id": "af9fa656",
   "metadata": {},
   "outputs": [
    {
     "name": "stdout",
     "output_type": "stream",
     "text": [
      "   number\n",
      "0      10\n",
      "1     100\n",
      "2     300\n"
     ]
    }
   ],
   "source": [
    "num = [10,100,300]\n",
    "\n",
    "df = pd.DataFrame(num , columns=[\"number\"])\n",
    "\n",
    "print(df)\n",
    "\n"
   ]
  },
  {
   "cell_type": "code",
   "execution_count": 80,
   "id": "f4a60d9b",
   "metadata": {},
   "outputs": [],
   "source": [
    "# Change the value of a key in a given dictionary.\n",
    "# Write a Python program to change ‘age’ to 28 in the following dictionary.\n",
    "# Dict = { \"name\": \"Shakil\", \"age\":27, \"city\": “Berlin”, \"country\": \"Germany\" }"
   ]
  },
  {
   "cell_type": "code",
   "execution_count": 82,
   "id": "8e2a328d",
   "metadata": {},
   "outputs": [
    {
     "name": "stdout",
     "output_type": "stream",
     "text": [
      "{'name': 'Shakil', 'age': 28, 'city': 'Berlin', 'country': 'Germany'}\n"
     ]
    }
   ],
   "source": [
    "Dict = { \"name\": \"Shakil\", \"age\":27, \"city\": \"Berlin\", \"country\": \"Germany\" }\n",
    "\n",
    "Dict[\"age\"] = 28\n",
    "\n",
    "print(Dict)\n"
   ]
  },
  {
   "cell_type": "code",
   "execution_count": null,
   "id": "c51cc2e6",
   "metadata": {},
   "outputs": [],
   "source": []
  },
  {
   "cell_type": "code",
   "execution_count": null,
   "id": "87e29fd9",
   "metadata": {},
   "outputs": [],
   "source": []
  }
 ],
 "metadata": {
  "kernelspec": {
   "display_name": "Python 3 (ipykernel)",
   "language": "python",
   "name": "python3"
  },
  "language_info": {
   "codemirror_mode": {
    "name": "ipython",
    "version": 3
   },
   "file_extension": ".py",
   "mimetype": "text/x-python",
   "name": "python",
   "nbconvert_exporter": "python",
   "pygments_lexer": "ipython3",
   "version": "3.9.7"
  }
 },
 "nbformat": 4,
 "nbformat_minor": 5
}
